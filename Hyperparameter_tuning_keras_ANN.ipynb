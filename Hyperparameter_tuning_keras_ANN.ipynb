{
 "cells": [
  {
   "cell_type": "code",
   "execution_count": 1,
   "metadata": {
    "id": "UYqtbMkYGhiV"
   },
   "outputs": [],
   "source": [
    "import numpy as np\n",
    "import pandas as pd\n",
    "import warnings\n",
    "warnings.filterwarnings('ignore')"
   ]
  },
  {
   "cell_type": "code",
   "execution_count": 2,
   "metadata": {
    "id": "_LGXoCkAHMuG"
   },
   "outputs": [],
   "source": [
    "df = pd.read_csv('diabetes.csv')"
   ]
  },
  {
   "cell_type": "code",
   "execution_count": 3,
   "metadata": {
    "colab": {
     "base_uri": "https://localhost:8080/",
     "height": 206
    },
    "id": "zeW88PEzHSSE",
    "outputId": "a0369d61-9bc2-414e-9c27-f7b0cb0b6ee9"
   },
   "outputs": [
    {
     "data": {
      "text/html": [
       "<div>\n",
       "<style scoped>\n",
       "    .dataframe tbody tr th:only-of-type {\n",
       "        vertical-align: middle;\n",
       "    }\n",
       "\n",
       "    .dataframe tbody tr th {\n",
       "        vertical-align: top;\n",
       "    }\n",
       "\n",
       "    .dataframe thead th {\n",
       "        text-align: right;\n",
       "    }\n",
       "</style>\n",
       "<table border=\"1\" class=\"dataframe\">\n",
       "  <thead>\n",
       "    <tr style=\"text-align: right;\">\n",
       "      <th></th>\n",
       "      <th>Pregnancies</th>\n",
       "      <th>Glucose</th>\n",
       "      <th>BloodPressure</th>\n",
       "      <th>SkinThickness</th>\n",
       "      <th>Insulin</th>\n",
       "      <th>BMI</th>\n",
       "      <th>DiabetesPedigreeFunction</th>\n",
       "      <th>Age</th>\n",
       "      <th>Outcome</th>\n",
       "    </tr>\n",
       "  </thead>\n",
       "  <tbody>\n",
       "    <tr>\n",
       "      <th>0</th>\n",
       "      <td>6</td>\n",
       "      <td>148</td>\n",
       "      <td>72</td>\n",
       "      <td>35</td>\n",
       "      <td>0</td>\n",
       "      <td>33.6</td>\n",
       "      <td>0.627</td>\n",
       "      <td>50</td>\n",
       "      <td>1</td>\n",
       "    </tr>\n",
       "    <tr>\n",
       "      <th>1</th>\n",
       "      <td>1</td>\n",
       "      <td>85</td>\n",
       "      <td>66</td>\n",
       "      <td>29</td>\n",
       "      <td>0</td>\n",
       "      <td>26.6</td>\n",
       "      <td>0.351</td>\n",
       "      <td>31</td>\n",
       "      <td>0</td>\n",
       "    </tr>\n",
       "    <tr>\n",
       "      <th>2</th>\n",
       "      <td>8</td>\n",
       "      <td>183</td>\n",
       "      <td>64</td>\n",
       "      <td>0</td>\n",
       "      <td>0</td>\n",
       "      <td>23.3</td>\n",
       "      <td>0.672</td>\n",
       "      <td>32</td>\n",
       "      <td>1</td>\n",
       "    </tr>\n",
       "    <tr>\n",
       "      <th>3</th>\n",
       "      <td>1</td>\n",
       "      <td>89</td>\n",
       "      <td>66</td>\n",
       "      <td>23</td>\n",
       "      <td>94</td>\n",
       "      <td>28.1</td>\n",
       "      <td>0.167</td>\n",
       "      <td>21</td>\n",
       "      <td>0</td>\n",
       "    </tr>\n",
       "    <tr>\n",
       "      <th>4</th>\n",
       "      <td>0</td>\n",
       "      <td>137</td>\n",
       "      <td>40</td>\n",
       "      <td>35</td>\n",
       "      <td>168</td>\n",
       "      <td>43.1</td>\n",
       "      <td>2.288</td>\n",
       "      <td>33</td>\n",
       "      <td>1</td>\n",
       "    </tr>\n",
       "  </tbody>\n",
       "</table>\n",
       "</div>"
      ],
      "text/plain": [
       "   Pregnancies  Glucose  BloodPressure  SkinThickness  Insulin   BMI  \\\n",
       "0            6      148             72             35        0  33.6   \n",
       "1            1       85             66             29        0  26.6   \n",
       "2            8      183             64              0        0  23.3   \n",
       "3            1       89             66             23       94  28.1   \n",
       "4            0      137             40             35      168  43.1   \n",
       "\n",
       "   DiabetesPedigreeFunction  Age  Outcome  \n",
       "0                     0.627   50        1  \n",
       "1                     0.351   31        0  \n",
       "2                     0.672   32        1  \n",
       "3                     0.167   21        0  \n",
       "4                     2.288   33        1  "
      ]
     },
     "execution_count": 3,
     "metadata": {},
     "output_type": "execute_result"
    }
   ],
   "source": [
    "df.head()"
   ]
  },
  {
   "cell_type": "code",
   "execution_count": 4,
   "metadata": {
    "colab": {
     "base_uri": "https://localhost:8080/"
    },
    "id": "idcBbg15Hab-",
    "outputId": "e6afed05-838e-45ab-e7a0-42c6124deb76"
   },
   "outputs": [
    {
     "name": "stdout",
     "output_type": "stream",
     "text": [
      "<class 'pandas.core.frame.DataFrame'>\n",
      "RangeIndex: 768 entries, 0 to 767\n",
      "Data columns (total 9 columns):\n",
      " #   Column                    Non-Null Count  Dtype  \n",
      "---  ------                    --------------  -----  \n",
      " 0   Pregnancies               768 non-null    int64  \n",
      " 1   Glucose                   768 non-null    int64  \n",
      " 2   BloodPressure             768 non-null    int64  \n",
      " 3   SkinThickness             768 non-null    int64  \n",
      " 4   Insulin                   768 non-null    int64  \n",
      " 5   BMI                       768 non-null    float64\n",
      " 6   DiabetesPedigreeFunction  768 non-null    float64\n",
      " 7   Age                       768 non-null    int64  \n",
      " 8   Outcome                   768 non-null    int64  \n",
      "dtypes: float64(2), int64(7)\n",
      "memory usage: 54.1 KB\n"
     ]
    }
   ],
   "source": [
    "df.info()"
   ]
  },
  {
   "cell_type": "code",
   "execution_count": 5,
   "metadata": {
    "id": "6EBmfzcAHcsS"
   },
   "outputs": [],
   "source": [
    "X = df.iloc[:,:-1]"
   ]
  },
  {
   "cell_type": "code",
   "execution_count": 6,
   "metadata": {
    "colab": {
     "base_uri": "https://localhost:8080/",
     "height": 206
    },
    "id": "R00Ecii7HiGS",
    "outputId": "8b62f25e-c984-4ad9-dbb5-519d8a9d1481"
   },
   "outputs": [
    {
     "data": {
      "text/html": [
       "<div>\n",
       "<style scoped>\n",
       "    .dataframe tbody tr th:only-of-type {\n",
       "        vertical-align: middle;\n",
       "    }\n",
       "\n",
       "    .dataframe tbody tr th {\n",
       "        vertical-align: top;\n",
       "    }\n",
       "\n",
       "    .dataframe thead th {\n",
       "        text-align: right;\n",
       "    }\n",
       "</style>\n",
       "<table border=\"1\" class=\"dataframe\">\n",
       "  <thead>\n",
       "    <tr style=\"text-align: right;\">\n",
       "      <th></th>\n",
       "      <th>Pregnancies</th>\n",
       "      <th>Glucose</th>\n",
       "      <th>BloodPressure</th>\n",
       "      <th>SkinThickness</th>\n",
       "      <th>Insulin</th>\n",
       "      <th>BMI</th>\n",
       "      <th>DiabetesPedigreeFunction</th>\n",
       "      <th>Age</th>\n",
       "    </tr>\n",
       "  </thead>\n",
       "  <tbody>\n",
       "    <tr>\n",
       "      <th>0</th>\n",
       "      <td>6</td>\n",
       "      <td>148</td>\n",
       "      <td>72</td>\n",
       "      <td>35</td>\n",
       "      <td>0</td>\n",
       "      <td>33.6</td>\n",
       "      <td>0.627</td>\n",
       "      <td>50</td>\n",
       "    </tr>\n",
       "    <tr>\n",
       "      <th>1</th>\n",
       "      <td>1</td>\n",
       "      <td>85</td>\n",
       "      <td>66</td>\n",
       "      <td>29</td>\n",
       "      <td>0</td>\n",
       "      <td>26.6</td>\n",
       "      <td>0.351</td>\n",
       "      <td>31</td>\n",
       "    </tr>\n",
       "    <tr>\n",
       "      <th>2</th>\n",
       "      <td>8</td>\n",
       "      <td>183</td>\n",
       "      <td>64</td>\n",
       "      <td>0</td>\n",
       "      <td>0</td>\n",
       "      <td>23.3</td>\n",
       "      <td>0.672</td>\n",
       "      <td>32</td>\n",
       "    </tr>\n",
       "    <tr>\n",
       "      <th>3</th>\n",
       "      <td>1</td>\n",
       "      <td>89</td>\n",
       "      <td>66</td>\n",
       "      <td>23</td>\n",
       "      <td>94</td>\n",
       "      <td>28.1</td>\n",
       "      <td>0.167</td>\n",
       "      <td>21</td>\n",
       "    </tr>\n",
       "    <tr>\n",
       "      <th>4</th>\n",
       "      <td>0</td>\n",
       "      <td>137</td>\n",
       "      <td>40</td>\n",
       "      <td>35</td>\n",
       "      <td>168</td>\n",
       "      <td>43.1</td>\n",
       "      <td>2.288</td>\n",
       "      <td>33</td>\n",
       "    </tr>\n",
       "  </tbody>\n",
       "</table>\n",
       "</div>"
      ],
      "text/plain": [
       "   Pregnancies  Glucose  BloodPressure  SkinThickness  Insulin   BMI  \\\n",
       "0            6      148             72             35        0  33.6   \n",
       "1            1       85             66             29        0  26.6   \n",
       "2            8      183             64              0        0  23.3   \n",
       "3            1       89             66             23       94  28.1   \n",
       "4            0      137             40             35      168  43.1   \n",
       "\n",
       "   DiabetesPedigreeFunction  Age  \n",
       "0                     0.627   50  \n",
       "1                     0.351   31  \n",
       "2                     0.672   32  \n",
       "3                     0.167   21  \n",
       "4                     2.288   33  "
      ]
     },
     "execution_count": 6,
     "metadata": {},
     "output_type": "execute_result"
    }
   ],
   "source": [
    "X.head()"
   ]
  },
  {
   "cell_type": "code",
   "execution_count": 7,
   "metadata": {
    "id": "UX57D-QgHjCB"
   },
   "outputs": [],
   "source": [
    "y = df.iloc[:,-1:]"
   ]
  },
  {
   "cell_type": "code",
   "execution_count": 8,
   "metadata": {
    "colab": {
     "base_uri": "https://localhost:8080/",
     "height": 206
    },
    "id": "qBZc2A0BHpgB",
    "outputId": "f71c9916-5cdd-4a15-94a2-2a7fd1ce56b9"
   },
   "outputs": [
    {
     "data": {
      "text/html": [
       "<div>\n",
       "<style scoped>\n",
       "    .dataframe tbody tr th:only-of-type {\n",
       "        vertical-align: middle;\n",
       "    }\n",
       "\n",
       "    .dataframe tbody tr th {\n",
       "        vertical-align: top;\n",
       "    }\n",
       "\n",
       "    .dataframe thead th {\n",
       "        text-align: right;\n",
       "    }\n",
       "</style>\n",
       "<table border=\"1\" class=\"dataframe\">\n",
       "  <thead>\n",
       "    <tr style=\"text-align: right;\">\n",
       "      <th></th>\n",
       "      <th>Outcome</th>\n",
       "    </tr>\n",
       "  </thead>\n",
       "  <tbody>\n",
       "    <tr>\n",
       "      <th>0</th>\n",
       "      <td>1</td>\n",
       "    </tr>\n",
       "    <tr>\n",
       "      <th>1</th>\n",
       "      <td>0</td>\n",
       "    </tr>\n",
       "    <tr>\n",
       "      <th>2</th>\n",
       "      <td>1</td>\n",
       "    </tr>\n",
       "    <tr>\n",
       "      <th>3</th>\n",
       "      <td>0</td>\n",
       "    </tr>\n",
       "    <tr>\n",
       "      <th>4</th>\n",
       "      <td>1</td>\n",
       "    </tr>\n",
       "  </tbody>\n",
       "</table>\n",
       "</div>"
      ],
      "text/plain": [
       "   Outcome\n",
       "0        1\n",
       "1        0\n",
       "2        1\n",
       "3        0\n",
       "4        1"
      ]
     },
     "execution_count": 8,
     "metadata": {},
     "output_type": "execute_result"
    }
   ],
   "source": [
    "y.head()"
   ]
  },
  {
   "cell_type": "code",
   "execution_count": 9,
   "metadata": {
    "id": "ewluOvdAHqgX"
   },
   "outputs": [],
   "source": [
    "from sklearn.model_selection import train_test_split"
   ]
  },
  {
   "cell_type": "code",
   "execution_count": 10,
   "metadata": {
    "id": "BVB3BvwiH4eN"
   },
   "outputs": [],
   "source": [
    "X_train_full,X_test,y_train_full,y_test = train_test_split(X,y,test_size=0.25,random_state=42)"
   ]
  },
  {
   "cell_type": "code",
   "execution_count": 11,
   "metadata": {
    "colab": {
     "base_uri": "https://localhost:8080/"
    },
    "id": "0MxGX4sAInrc",
    "outputId": "54266517-302c-474f-c8b6-dcff58e776e1"
   },
   "outputs": [
    {
     "name": "stdout",
     "output_type": "stream",
     "text": [
      "(576, 8)\n",
      "(192, 8)\n",
      "(576, 1)\n",
      "(192, 1)\n"
     ]
    }
   ],
   "source": [
    "print(X_train_full.shape)\n",
    "print(X_test.shape)\n",
    "print(y_train_full.shape)\n",
    "print(y_test.shape)"
   ]
  },
  {
   "cell_type": "code",
   "execution_count": 12,
   "metadata": {
    "id": "8sYoCGpZINfH"
   },
   "outputs": [],
   "source": [
    "X_train,X_valid,y_train,y_valid = train_test_split(X_train_full,y_train_full,random_state=42,test_size=0.25)"
   ]
  },
  {
   "cell_type": "code",
   "execution_count": 13,
   "metadata": {
    "colab": {
     "base_uri": "https://localhost:8080/"
    },
    "id": "8NmFpjZbI6oS",
    "outputId": "8785db5d-dec2-4a6a-acef-086be8dacd34"
   },
   "outputs": [
    {
     "name": "stdout",
     "output_type": "stream",
     "text": [
      "(432, 8)\n",
      "(144, 8)\n",
      "(432, 1)\n",
      "(144, 1)\n"
     ]
    }
   ],
   "source": [
    "print(X_train.shape)\n",
    "print(X_valid.shape)\n",
    "print(y_train.shape)\n",
    "print(y_valid.shape)"
   ]
  },
  {
   "cell_type": "code",
   "execution_count": 14,
   "metadata": {
    "colab": {
     "base_uri": "https://localhost:8080/"
    },
    "id": "XddQEu8OKThi",
    "outputId": "dd21f560-e1a3-4d46-f18d-8759a93d5018"
   },
   "outputs": [
    {
     "data": {
      "text/plain": [
       "['Pregnancies',\n",
       " 'Glucose',\n",
       " 'BloodPressure',\n",
       " 'SkinThickness',\n",
       " 'Insulin',\n",
       " 'BMI',\n",
       " 'DiabetesPedigreeFunction',\n",
       " 'Age']"
      ]
     },
     "execution_count": 14,
     "metadata": {},
     "output_type": "execute_result"
    }
   ],
   "source": [
    "list(X_train.columns)"
   ]
  },
  {
   "cell_type": "code",
   "execution_count": 15,
   "metadata": {
    "id": "EnKNHqY6JAvC"
   },
   "outputs": [],
   "source": [
    "from sklearn.preprocessing import StandardScaler\n",
    "sc = StandardScaler()\n",
    "X_train = sc.fit_transform(X_train)\n",
    "X_valid = sc.transform(X_valid)\n",
    "X_test = sc.transform(X_test)"
   ]
  },
  {
   "cell_type": "code",
   "execution_count": 16,
   "metadata": {
    "colab": {
     "base_uri": "https://localhost:8080/"
    },
    "id": "GYuqHgWYJf5D",
    "outputId": "ba9dc7fe-763b-4b9a-bc2f-40deb41d1c9a"
   },
   "outputs": [
    {
     "data": {
      "text/plain": [
       "array([[-0.21089733, -0.67355372, -0.1065968 , ..., -0.04503599,\n",
       "         1.38583788, -0.43779019],\n",
       "       [ 0.99983553,  1.87141893,  0.79193622, ...,  0.52757767,\n",
       "         0.32422577,  1.51633529],\n",
       "       [-0.51358055, -0.42219839, -0.44354668, ..., -0.88398159,\n",
       "         1.18696839, -0.94756205],\n",
       "       ...,\n",
       "       [-1.11894698,  0.14335108,  0.90425284, ..., -0.60433306,\n",
       "         0.11658263, -1.03252403],\n",
       "       [ 0.09178588, -0.57929547, -0.55586331, ..., -1.05709735,\n",
       "         1.43555525, -0.0129803 ],\n",
       "       [-0.21089733,  0.23760933,  1.24120272, ...,  0.59416065,\n",
       "         1.44140435, -0.09794228]])"
      ]
     },
     "execution_count": 16,
     "metadata": {},
     "output_type": "execute_result"
    }
   ],
   "source": [
    "X_train"
   ]
  },
  {
   "cell_type": "code",
   "execution_count": 17,
   "metadata": {},
   "outputs": [
    {
     "name": "stdout",
     "output_type": "stream",
     "text": [
      "Requirement already satisfied: tensorflow in /opt/conda/lib/python3.10/site-packages (2.14.0)\n",
      "Requirement already satisfied: flatbuffers>=23.5.26 in /opt/conda/lib/python3.10/site-packages (from tensorflow) (23.5.26)\n",
      "Requirement already satisfied: termcolor>=1.1.0 in /opt/conda/lib/python3.10/site-packages (from tensorflow) (2.3.0)\n",
      "Requirement already satisfied: typing-extensions>=3.6.6 in /opt/conda/lib/python3.10/site-packages (from tensorflow) (4.4.0)\n",
      "Requirement already satisfied: absl-py>=1.0.0 in /opt/conda/lib/python3.10/site-packages (from tensorflow) (2.0.0)\n",
      "Requirement already satisfied: grpcio<2.0,>=1.24.3 in /opt/conda/lib/python3.10/site-packages (from tensorflow) (1.59.2)\n",
      "Requirement already satisfied: tensorflow-estimator<2.15,>=2.14.0 in /opt/conda/lib/python3.10/site-packages (from tensorflow) (2.14.0)\n",
      "Requirement already satisfied: numpy>=1.23.5 in /opt/conda/lib/python3.10/site-packages (from tensorflow) (1.23.5)\n",
      "Requirement already satisfied: tensorboard<2.15,>=2.14 in /opt/conda/lib/python3.10/site-packages (from tensorflow) (2.14.1)\n",
      "Requirement already satisfied: ml-dtypes==0.2.0 in /opt/conda/lib/python3.10/site-packages (from tensorflow) (0.2.0)\n",
      "Requirement already satisfied: keras<2.15,>=2.14.0 in /opt/conda/lib/python3.10/site-packages (from tensorflow) (2.14.0)\n",
      "Requirement already satisfied: protobuf!=4.21.0,!=4.21.1,!=4.21.2,!=4.21.3,!=4.21.4,!=4.21.5,<5.0.0dev,>=3.20.3 in /opt/conda/lib/python3.10/site-packages (from tensorflow) (4.21.11)\n",
      "Requirement already satisfied: tensorflow-io-gcs-filesystem>=0.23.1 in /opt/conda/lib/python3.10/site-packages (from tensorflow) (0.34.0)\n",
      "Requirement already satisfied: google-pasta>=0.1.1 in /opt/conda/lib/python3.10/site-packages (from tensorflow) (0.2.0)\n",
      "Requirement already satisfied: six>=1.12.0 in /opt/conda/lib/python3.10/site-packages (from tensorflow) (1.16.0)\n",
      "Requirement already satisfied: setuptools in /opt/conda/lib/python3.10/site-packages (from tensorflow) (65.5.1)\n",
      "Requirement already satisfied: packaging in /opt/conda/lib/python3.10/site-packages (from tensorflow) (22.0)\n",
      "Requirement already satisfied: wrapt<1.15,>=1.11.0 in /opt/conda/lib/python3.10/site-packages (from tensorflow) (1.14.1)\n",
      "Requirement already satisfied: h5py>=2.9.0 in /opt/conda/lib/python3.10/site-packages (from tensorflow) (3.7.0)\n",
      "Requirement already satisfied: astunparse>=1.6.0 in /opt/conda/lib/python3.10/site-packages (from tensorflow) (1.6.3)\n",
      "Requirement already satisfied: libclang>=13.0.0 in /opt/conda/lib/python3.10/site-packages (from tensorflow) (16.0.6)\n",
      "Requirement already satisfied: opt-einsum>=2.3.2 in /opt/conda/lib/python3.10/site-packages (from tensorflow) (3.3.0)\n",
      "Requirement already satisfied: gast!=0.5.0,!=0.5.1,!=0.5.2,>=0.2.1 in /opt/conda/lib/python3.10/site-packages (from tensorflow) (0.5.4)\n",
      "Requirement already satisfied: wheel<1.0,>=0.23.0 in /opt/conda/lib/python3.10/site-packages (from astunparse>=1.6.0->tensorflow) (0.38.4)\n",
      "Requirement already satisfied: markdown>=2.6.8 in /opt/conda/lib/python3.10/site-packages (from tensorboard<2.15,>=2.14->tensorflow) (3.5.1)\n",
      "Requirement already satisfied: google-auth-oauthlib<1.1,>=0.5 in /opt/conda/lib/python3.10/site-packages (from tensorboard<2.15,>=2.14->tensorflow) (1.0.0)\n",
      "Requirement already satisfied: google-auth<3,>=1.6.3 in /opt/conda/lib/python3.10/site-packages (from tensorboard<2.15,>=2.14->tensorflow) (2.23.4)\n",
      "Requirement already satisfied: werkzeug>=1.0.1 in /opt/conda/lib/python3.10/site-packages (from tensorboard<2.15,>=2.14->tensorflow) (3.0.1)\n",
      "Requirement already satisfied: tensorboard-data-server<0.8.0,>=0.7.0 in /opt/conda/lib/python3.10/site-packages (from tensorboard<2.15,>=2.14->tensorflow) (0.7.2)\n",
      "Requirement already satisfied: requests<3,>=2.21.0 in /opt/conda/lib/python3.10/site-packages (from tensorboard<2.15,>=2.14->tensorflow) (2.28.1)\n",
      "Requirement already satisfied: pyasn1-modules>=0.2.1 in /opt/conda/lib/python3.10/site-packages (from google-auth<3,>=1.6.3->tensorboard<2.15,>=2.14->tensorflow) (0.3.0)\n",
      "Requirement already satisfied: cachetools<6.0,>=2.0.0 in /opt/conda/lib/python3.10/site-packages (from google-auth<3,>=1.6.3->tensorboard<2.15,>=2.14->tensorflow) (5.3.2)\n",
      "Requirement already satisfied: rsa<5,>=3.1.4 in /opt/conda/lib/python3.10/site-packages (from google-auth<3,>=1.6.3->tensorboard<2.15,>=2.14->tensorflow) (4.9)\n",
      "Requirement already satisfied: requests-oauthlib>=0.7.0 in /opt/conda/lib/python3.10/site-packages (from google-auth-oauthlib<1.1,>=0.5->tensorboard<2.15,>=2.14->tensorflow) (1.3.1)\n",
      "Requirement already satisfied: idna<4,>=2.5 in /opt/conda/lib/python3.10/site-packages (from requests<3,>=2.21.0->tensorboard<2.15,>=2.14->tensorflow) (3.4)\n",
      "Requirement already satisfied: certifi>=2017.4.17 in /opt/conda/lib/python3.10/site-packages (from requests<3,>=2.21.0->tensorboard<2.15,>=2.14->tensorflow) (2022.12.7)\n",
      "Requirement already satisfied: urllib3<1.27,>=1.21.1 in /opt/conda/lib/python3.10/site-packages (from requests<3,>=2.21.0->tensorboard<2.15,>=2.14->tensorflow) (1.26.13)\n",
      "Requirement already satisfied: charset-normalizer<3,>=2 in /opt/conda/lib/python3.10/site-packages (from requests<3,>=2.21.0->tensorboard<2.15,>=2.14->tensorflow) (2.1.1)\n",
      "Requirement already satisfied: MarkupSafe>=2.1.1 in /opt/conda/lib/python3.10/site-packages (from werkzeug>=1.0.1->tensorboard<2.15,>=2.14->tensorflow) (2.1.1)\n",
      "Requirement already satisfied: pyasn1<0.6.0,>=0.4.6 in /opt/conda/lib/python3.10/site-packages (from pyasn1-modules>=0.2.1->google-auth<3,>=1.6.3->tensorboard<2.15,>=2.14->tensorflow) (0.5.0)\n",
      "Requirement already satisfied: oauthlib>=3.0.0 in /opt/conda/lib/python3.10/site-packages (from requests-oauthlib>=0.7.0->google-auth-oauthlib<1.1,>=0.5->tensorboard<2.15,>=2.14->tensorflow) (3.2.2)\n"
     ]
    }
   ],
   "source": [
    "!pip install tensorflow"
   ]
  },
  {
   "cell_type": "code",
   "execution_count": 18,
   "metadata": {
    "id": "CNy9NmsQJ1HT"
   },
   "outputs": [
    {
     "name": "stderr",
     "output_type": "stream",
     "text": [
      "2023-11-12 08:31:06.396457: I tensorflow/tsl/cuda/cudart_stub.cc:28] Could not find cuda drivers on your machine, GPU will not be used.\n",
      "2023-11-12 08:31:06.461144: E tensorflow/compiler/xla/stream_executor/cuda/cuda_dnn.cc:9342] Unable to register cuDNN factory: Attempting to register factory for plugin cuDNN when one has already been registered\n",
      "2023-11-12 08:31:06.461204: E tensorflow/compiler/xla/stream_executor/cuda/cuda_fft.cc:609] Unable to register cuFFT factory: Attempting to register factory for plugin cuFFT when one has already been registered\n",
      "2023-11-12 08:31:06.461245: E tensorflow/compiler/xla/stream_executor/cuda/cuda_blas.cc:1518] Unable to register cuBLAS factory: Attempting to register factory for plugin cuBLAS when one has already been registered\n",
      "2023-11-12 08:31:06.471357: I tensorflow/tsl/cuda/cudart_stub.cc:28] Could not find cuda drivers on your machine, GPU will not be used.\n",
      "2023-11-12 08:31:06.472870: I tensorflow/core/platform/cpu_feature_guard.cc:182] This TensorFlow binary is optimized to use available CPU instructions in performance-critical operations.\n",
      "To enable the following instructions: AVX2 FMA, in other operations, rebuild TensorFlow with the appropriate compiler flags.\n",
      "2023-11-12 08:31:07.722003: W tensorflow/compiler/tf2tensorrt/utils/py_utils.cc:38] TF-TRT Warning: Could not find TensorRT\n"
     ]
    }
   ],
   "source": [
    "import tensorflow as tf"
   ]
  },
  {
   "cell_type": "code",
   "execution_count": 19,
   "metadata": {
    "id": "3Kkp0X-IKpr6"
   },
   "outputs": [],
   "source": [
    "Layers = [\n",
    "    tf.keras.layers.Dense(32, activation = 'relu', input_dim = 8),\n",
    "    tf.keras.layers.Dense(1, activation = 'sigmoid')\n",
    "]"
   ]
  },
  {
   "cell_type": "code",
   "execution_count": 20,
   "metadata": {
    "id": "I-zueeddLK6q"
   },
   "outputs": [],
   "source": [
    "model = tf.keras.models.Sequential(Layers)"
   ]
  },
  {
   "cell_type": "code",
   "execution_count": 21,
   "metadata": {
    "colab": {
     "base_uri": "https://localhost:8080/"
    },
    "id": "YcGH3sGzLVdP",
    "outputId": "cd933536-6a88-4f5b-d966-abe1e714fcb5"
   },
   "outputs": [
    {
     "name": "stdout",
     "output_type": "stream",
     "text": [
      "Model: \"sequential\"\n",
      "_________________________________________________________________\n",
      " Layer (type)                Output Shape              Param #   \n",
      "=================================================================\n",
      " dense (Dense)               (None, 32)                288       \n",
      "                                                                 \n",
      " dense_1 (Dense)             (None, 1)                 33        \n",
      "                                                                 \n",
      "=================================================================\n",
      "Total params: 321 (1.25 KB)\n",
      "Trainable params: 321 (1.25 KB)\n",
      "Non-trainable params: 0 (0.00 Byte)\n",
      "_________________________________________________________________\n"
     ]
    }
   ],
   "source": [
    "model.summary()"
   ]
  },
  {
   "cell_type": "code",
   "execution_count": 22,
   "metadata": {
    "id": "vYO6CwXcLczI"
   },
   "outputs": [],
   "source": [
    "Loss_function = 'binary_crossentropy'\n",
    "Optimizer = 'adam'\n",
    "Metrics = 'accuracy'"
   ]
  },
  {
   "cell_type": "code",
   "execution_count": 23,
   "metadata": {
    "colab": {
     "base_uri": "https://localhost:8080/"
    },
    "id": "VLReAiF8Lq9W",
    "outputId": "bb3b5191-9a33-49bf-da3e-cd57e03e9364"
   },
   "outputs": [],
   "source": [
    "model.compile(\n",
    "    loss = Loss_function,\n",
    "    optimizer = Optimizer,\n",
    "    metrics = Metrics\n",
    ")"
   ]
  },
  {
   "cell_type": "code",
   "execution_count": 24,
   "metadata": {
    "colab": {
     "base_uri": "https://localhost:8080/"
    },
    "id": "yMXPhJ07MAgU",
    "outputId": "06c5054e-6d80-401e-85fa-f38d57c14c7e"
   },
   "outputs": [
    {
     "name": "stdout",
     "output_type": "stream",
     "text": [
      "Epoch 1/10\n",
      "14/14 [==============================] - 1s 19ms/step - loss: 0.6981 - accuracy: 0.5486 - val_loss: 0.6833 - val_accuracy: 0.5833\n",
      "Epoch 2/10\n",
      "14/14 [==============================] - 0s 5ms/step - loss: 0.6463 - accuracy: 0.6644 - val_loss: 0.6325 - val_accuracy: 0.6667\n",
      "Epoch 3/10\n",
      "14/14 [==============================] - 0s 5ms/step - loss: 0.6065 - accuracy: 0.7199 - val_loss: 0.5957 - val_accuracy: 0.7014\n",
      "Epoch 4/10\n",
      "14/14 [==============================] - 0s 5ms/step - loss: 0.5776 - accuracy: 0.7407 - val_loss: 0.5671 - val_accuracy: 0.7431\n",
      "Epoch 5/10\n",
      "14/14 [==============================] - 0s 7ms/step - loss: 0.5557 - accuracy: 0.7269 - val_loss: 0.5455 - val_accuracy: 0.7500\n",
      "Epoch 6/10\n",
      "14/14 [==============================] - 0s 5ms/step - loss: 0.5383 - accuracy: 0.7384 - val_loss: 0.5287 - val_accuracy: 0.7500\n",
      "Epoch 7/10\n",
      "14/14 [==============================] - 0s 7ms/step - loss: 0.5243 - accuracy: 0.7454 - val_loss: 0.5155 - val_accuracy: 0.7639\n",
      "Epoch 8/10\n",
      "14/14 [==============================] - 0s 5ms/step - loss: 0.5135 - accuracy: 0.7546 - val_loss: 0.5067 - val_accuracy: 0.7778\n",
      "Epoch 9/10\n",
      "14/14 [==============================] - 0s 5ms/step - loss: 0.5042 - accuracy: 0.7569 - val_loss: 0.4979 - val_accuracy: 0.7778\n",
      "Epoch 10/10\n",
      "14/14 [==============================] - 0s 5ms/step - loss: 0.4968 - accuracy: 0.7662 - val_loss: 0.4895 - val_accuracy: 0.7847\n"
     ]
    },
    {
     "data": {
      "text/plain": [
       "<keras.src.callbacks.History at 0x7f38925debf0>"
      ]
     },
     "execution_count": 24,
     "metadata": {},
     "output_type": "execute_result"
    }
   ],
   "source": [
    "model.fit(X_train, y_train, validation_data = (X_valid, y_valid), epochs = 10)"
   ]
  },
  {
   "cell_type": "markdown",
   "metadata": {
    "id": "mW8xU-ByN_s4"
   },
   "source": [
    "How to Select number of layers in Neural Network"
   ]
  },
  {
   "cell_type": "code",
   "execution_count": 25,
   "metadata": {
    "colab": {
     "base_uri": "https://localhost:8080/"
    },
    "id": "T69izz7SRjI6",
    "outputId": "c698de7b-5d1a-435b-b09c-30ebf8834e19"
   },
   "outputs": [
    {
     "name": "stdout",
     "output_type": "stream",
     "text": [
      "Requirement already satisfied: Keras-tuner in /opt/conda/lib/python3.10/site-packages (1.4.6)\n",
      "Requirement already satisfied: packaging in /opt/conda/lib/python3.10/site-packages (from Keras-tuner) (22.0)\n",
      "Requirement already satisfied: kt-legacy in /opt/conda/lib/python3.10/site-packages (from Keras-tuner) (1.0.5)\n",
      "Requirement already satisfied: requests in /opt/conda/lib/python3.10/site-packages (from Keras-tuner) (2.28.1)\n",
      "Requirement already satisfied: keras in /opt/conda/lib/python3.10/site-packages (from Keras-tuner) (2.14.0)\n",
      "Requirement already satisfied: idna<4,>=2.5 in /opt/conda/lib/python3.10/site-packages (from requests->Keras-tuner) (3.4)\n",
      "Requirement already satisfied: urllib3<1.27,>=1.21.1 in /opt/conda/lib/python3.10/site-packages (from requests->Keras-tuner) (1.26.13)\n",
      "Requirement already satisfied: certifi>=2017.4.17 in /opt/conda/lib/python3.10/site-packages (from requests->Keras-tuner) (2022.12.7)\n",
      "Requirement already satisfied: charset-normalizer<3,>=2 in /opt/conda/lib/python3.10/site-packages (from requests->Keras-tuner) (2.1.1)\n"
     ]
    }
   ],
   "source": [
    "!pip install -U Keras-tuner"
   ]
  },
  {
   "cell_type": "code",
   "execution_count": 26,
   "metadata": {
    "id": "NnmRaCZrRcnQ"
   },
   "outputs": [],
   "source": [
    "import keras_tuner as kt"
   ]
  },
  {
   "cell_type": "code",
   "execution_count": 27,
   "metadata": {
    "id": "iPvdb3cpMj3m"
   },
   "outputs": [],
   "source": [
    "def build_model(hp):\n",
    "\n",
    "  model = tf.keras.models.Sequential()\n",
    "\n",
    "  counter = 0\n",
    "\n",
    "  for i in range(hp.Int('num_layers',min_value=1,max_value=10)):\n",
    "    if counter == 0 :\n",
    "      model.add(tf.keras.layers.Dense(hp.Int('units' + str(i),min_value = 8, max_value = 128), activation = 'relu', input_dim = 8))\n",
    "    else:\n",
    "      model.add(tf.keras.layers.Dense(hp.Int('units' + str(i),min_value = 8, max_value = 128), activation = 'relu'))\n",
    "\n",
    "    counter += 1\n",
    "\n",
    "  model.add(tf.keras.layers.Dense(1,activation = 'sigmoid'))\n",
    "\n",
    "  loss_function = 'binary_crossentropy'\n",
    "  optimizer = 'adam'\n",
    "  metrics = 'accuracy'\n",
    "\n",
    "  model.compile(\n",
    "      loss = loss_function,\n",
    "      optimizer = optimizer,\n",
    "      metrics = metrics)\n",
    "\n",
    "  return model\n"
   ]
  },
  {
   "cell_type": "code",
   "execution_count": 28,
   "metadata": {
    "colab": {
     "base_uri": "https://localhost:8080/"
    },
    "id": "yPLsiTrcQ-Y0",
    "outputId": "f5c8d412-05e3-4f8e-efc2-03ca8f23ec35"
   },
   "outputs": [
    {
     "name": "stdout",
     "output_type": "stream",
     "text": [
      "Reloading Tuner from Layer Selection/untitled_project/tuner0.json\n"
     ]
    }
   ],
   "source": [
    "tuner = kt.RandomSearch(build_model,\n",
    "                        objective = 'val_accuracy',\n",
    "                        max_trials = 5,\n",
    "                        directory = 'Layer Selection')"
   ]
  },
  {
   "cell_type": "code",
   "execution_count": 29,
   "metadata": {
    "id": "uOM32WkSRBGx"
   },
   "outputs": [],
   "source": [
    "tuner.search(X_train,y_train,epochs = 5,validation_data = (X_valid,y_valid))"
   ]
  },
  {
   "cell_type": "code",
   "execution_count": 30,
   "metadata": {
    "colab": {
     "base_uri": "https://localhost:8080/"
    },
    "id": "RazrmXW8UDny",
    "outputId": "98ec2dcd-4a1a-4f5c-d490-6b18be58a81f"
   },
   "outputs": [
    {
     "data": {
      "text/plain": [
       "{'num_layers': 2, 'units0': 104, 'units1': 87}"
      ]
     },
     "execution_count": 30,
     "metadata": {},
     "output_type": "execute_result"
    }
   ],
   "source": [
    "tuner.get_best_hyperparameters()[0].values"
   ]
  },
  {
   "cell_type": "code",
   "execution_count": 31,
   "metadata": {
    "colab": {
     "base_uri": "https://localhost:8080/"
    },
    "id": "coUv7Ye_UU4B",
    "outputId": "a38630e8-e7ab-40c3-f153-7d529a941105"
   },
   "outputs": [],
   "source": [
    "model = tuner.get_best_models(num_models=1)[0]"
   ]
  },
  {
   "cell_type": "code",
   "execution_count": 32,
   "metadata": {},
   "outputs": [
    {
     "name": "stdout",
     "output_type": "stream",
     "text": [
      "Epoch 6/10\n",
      "14/14 [==============================] - 1s 18ms/step - loss: 0.4799 - accuracy: 0.7731 - val_loss: 0.4497 - val_accuracy: 0.7986\n",
      "Epoch 7/10\n",
      "14/14 [==============================] - 0s 10ms/step - loss: 0.4498 - accuracy: 0.7917 - val_loss: 0.4411 - val_accuracy: 0.7778\n",
      "Epoch 8/10\n",
      "14/14 [==============================] - 0s 6ms/step - loss: 0.4310 - accuracy: 0.7940 - val_loss: 0.4450 - val_accuracy: 0.7847\n",
      "Epoch 9/10\n",
      "14/14 [==============================] - 0s 6ms/step - loss: 0.4201 - accuracy: 0.7986 - val_loss: 0.4564 - val_accuracy: 0.7917\n",
      "Epoch 10/10\n",
      "14/14 [==============================] - 0s 7ms/step - loss: 0.4079 - accuracy: 0.8079 - val_loss: 0.4597 - val_accuracy: 0.7986\n"
     ]
    },
    {
     "data": {
      "text/plain": [
       "<keras.src.callbacks.History at 0x7f386ea9e980>"
      ]
     },
     "execution_count": 32,
     "metadata": {},
     "output_type": "execute_result"
    }
   ],
   "source": [
    "model.fit(X_train, y_train,validation_data = (X_valid, y_valid),epochs = 10, initial_epoch = 5)"
   ]
  },
  {
   "cell_type": "code",
   "execution_count": 33,
   "metadata": {
    "colab": {
     "base_uri": "https://localhost:8080/"
    },
    "id": "qV0f1fJSUhUZ",
    "outputId": "5fd463e0-202a-4629-e920-fe9d84e821b6"
   },
   "outputs": [
    {
     "name": "stdout",
     "output_type": "stream",
     "text": [
      "Model: \"sequential\"\n",
      "_________________________________________________________________\n",
      " Layer (type)                Output Shape              Param #   \n",
      "=================================================================\n",
      " dense (Dense)               (None, 104)               936       \n",
      "                                                                 \n",
      " dense_1 (Dense)             (None, 87)                9135      \n",
      "                                                                 \n",
      " dense_2 (Dense)             (None, 1)                 88        \n",
      "                                                                 \n",
      "=================================================================\n",
      "Total params: 10159 (39.68 KB)\n",
      "Trainable params: 10159 (39.68 KB)\n",
      "Non-trainable params: 0 (0.00 Byte)\n",
      "_________________________________________________________________\n"
     ]
    }
   ],
   "source": [
    "model.summary()"
   ]
  },
  {
   "cell_type": "markdown",
   "metadata": {
    "id": "FzgE23zVUn-G"
   },
   "source": [
    "2. How to select the number of nodes/neuron"
   ]
  },
  {
   "cell_type": "code",
   "execution_count": 34,
   "metadata": {
    "id": "TU3EChYnUj3j"
   },
   "outputs": [],
   "source": [
    "def build_model(hp):\n",
    "\n",
    "  units = hp.Int('units',min_value = 8, max_value = 128, step = 8)\n",
    "\n",
    "  Layers = [\n",
    "      tf.keras.layers.Dense(units = units, activation = 'relu', input_dim = 8),\n",
    "      #tf.keras.layers.Dense(units = units, activation = 'relu'),\n",
    "      #tf.keras.layers.Dense(units = units, activation = 'relu'),\n",
    "      #tf.keras.layers.Dense(units = units, activation = 'relu'),\n",
    "      #tf.keras.layers.Dense(units = units, activation = 'relu'),\n",
    "      tf.keras.layers.Dense(1, activation = 'sigmoid')\n",
    "  ]\n",
    "\n",
    "  model = tf.keras.models.Sequential(Layers)\n",
    "\n",
    "  Loss_function = 'binary_crossentropy'\n",
    "  optimizer = 'adam'\n",
    "  metrics = 'accuracy'\n",
    "\n",
    "  model.compile(\n",
    "      loss = Loss_function,\n",
    "      optimizer = optimizer,\n",
    "      metrics = metrics\n",
    "  )\n",
    "\n",
    "  return model\n"
   ]
  },
  {
   "cell_type": "code",
   "execution_count": 35,
   "metadata": {
    "colab": {
     "base_uri": "https://localhost:8080/"
    },
    "id": "eEqfrAuRW8Gm",
    "outputId": "0c303127-5abc-4c18-f31c-fd623e05f8be"
   },
   "outputs": [
    {
     "name": "stdout",
     "output_type": "stream",
     "text": [
      "Reloading Tuner from Nodes Selection/untitled_project/tuner0.json\n"
     ]
    }
   ],
   "source": [
    "tuner = kt.RandomSearch(build_model,\n",
    "                        objective = 'val_accuracy',\n",
    "                        max_trials = 5\n",
    "                        ,directory = 'Nodes Selection')\n"
   ]
  },
  {
   "cell_type": "code",
   "execution_count": 36,
   "metadata": {
    "id": "yRPeypWlXOGH"
   },
   "outputs": [],
   "source": [
    "tuner.search(X_train,y_train,epochs = 5, validation_data = (X_valid,y_valid))"
   ]
  },
  {
   "cell_type": "code",
   "execution_count": 37,
   "metadata": {
    "colab": {
     "base_uri": "https://localhost:8080/"
    },
    "id": "oWRWkCVwY72v",
    "outputId": "3603c9b5-ac63-4ce3-e18a-5ab2fa30707f"
   },
   "outputs": [
    {
     "data": {
      "text/plain": [
       "{'units': 112}"
      ]
     },
     "execution_count": 37,
     "metadata": {},
     "output_type": "execute_result"
    }
   ],
   "source": [
    "tuner.get_best_hyperparameters()[0].values"
   ]
  },
  {
   "cell_type": "code",
   "execution_count": 38,
   "metadata": {},
   "outputs": [],
   "source": [
    "model = tuner.get_best_models(num_models=1)[0]"
   ]
  },
  {
   "cell_type": "code",
   "execution_count": 39,
   "metadata": {},
   "outputs": [
    {
     "name": "stdout",
     "output_type": "stream",
     "text": [
      "Epoch 6/10\n",
      "14/14 [==============================] - 1s 17ms/step - loss: 0.5081 - accuracy: 0.7593 - val_loss: 0.4941 - val_accuracy: 0.7917\n",
      "Epoch 7/10\n",
      "14/14 [==============================] - 0s 5ms/step - loss: 0.4874 - accuracy: 0.7685 - val_loss: 0.4804 - val_accuracy: 0.7986\n",
      "Epoch 8/10\n",
      "14/14 [==============================] - 0s 5ms/step - loss: 0.4729 - accuracy: 0.7755 - val_loss: 0.4695 - val_accuracy: 0.7986\n",
      "Epoch 9/10\n",
      "14/14 [==============================] - 0s 5ms/step - loss: 0.4606 - accuracy: 0.7801 - val_loss: 0.4641 - val_accuracy: 0.7986\n",
      "Epoch 10/10\n",
      "14/14 [==============================] - 0s 6ms/step - loss: 0.4537 - accuracy: 0.7824 - val_loss: 0.4592 - val_accuracy: 0.7986\n"
     ]
    },
    {
     "data": {
      "text/plain": [
       "<keras.src.callbacks.History at 0x7f36eb6cf310>"
      ]
     },
     "execution_count": 39,
     "metadata": {},
     "output_type": "execute_result"
    }
   ],
   "source": [
    "model.fit(X_train, y_train,validation_data = (X_valid, y_valid),epochs = 10, initial_epoch = 5)"
   ]
  },
  {
   "cell_type": "code",
   "execution_count": 40,
   "metadata": {},
   "outputs": [
    {
     "name": "stdout",
     "output_type": "stream",
     "text": [
      "Model: \"sequential\"\n",
      "_________________________________________________________________\n",
      " Layer (type)                Output Shape              Param #   \n",
      "=================================================================\n",
      " dense (Dense)               (None, 112)               1008      \n",
      "                                                                 \n",
      " dense_1 (Dense)             (None, 1)                 113       \n",
      "                                                                 \n",
      "=================================================================\n",
      "Total params: 1121 (4.38 KB)\n",
      "Trainable params: 1121 (4.38 KB)\n",
      "Non-trainable params: 0 (0.00 Byte)\n",
      "_________________________________________________________________\n"
     ]
    }
   ],
   "source": [
    "model.summary()"
   ]
  },
  {
   "cell_type": "markdown",
   "metadata": {
    "id": "Aw1-5Mojbe5I"
   },
   "source": [
    "3. How to select the  best optimizer?"
   ]
  },
  {
   "cell_type": "code",
   "execution_count": 41,
   "metadata": {
    "id": "LUwYXaETbdmy"
   },
   "outputs": [],
   "source": [
    "def build_model(hp):\n",
    "\n",
    "  Layers = [\n",
    "      tf.keras.layers.Dense(32,activation='relu',input_dim=8),\n",
    "      tf.keras.layers.Dense(1,activation='sigmoid')\n",
    "  ]\n",
    "\n",
    "  model = tf.keras.models.Sequential(Layers)\n",
    "\n",
    "  Loss_function = 'binary_crossentropy'\n",
    "  Optimizer = hp.Choice('optimizer', values = ['adam', 'sgd', 'rmsprop', 'adadelta'])\n",
    "  Metrics = ['accuracy']\n",
    "\n",
    "  model.compile(loss = Loss_function,\n",
    "                optimizer = Optimizer,\n",
    "                metrics = Metrics)\n",
    "\n",
    "  return model\n"
   ]
  },
  {
   "cell_type": "code",
   "execution_count": 42,
   "metadata": {
    "id": "XHx_H4DybaC3"
   },
   "outputs": [
    {
     "name": "stdout",
     "output_type": "stream",
     "text": [
      "Reloading Tuner from Optimizer Selection/untitled_project/tuner0.json\n"
     ]
    }
   ],
   "source": [
    "tuner = kt.RandomSearch(build_model,\n",
    "                        objective = 'val_accuracy',\n",
    "                        max_trials = 5,\n",
    "                        directory = 'Optimizer Selection')"
   ]
  },
  {
   "cell_type": "code",
   "execution_count": 43,
   "metadata": {
    "colab": {
     "base_uri": "https://localhost:8080/"
    },
    "id": "bsHIUtXMc0K7",
    "outputId": "aa26869b-d34c-4678-96db-7aa9b5b2d030"
   },
   "outputs": [],
   "source": [
    "tuner.search(X_train, y_train, validation_data = (X_valid,y_valid), epochs = 5)"
   ]
  },
  {
   "cell_type": "code",
   "execution_count": 44,
   "metadata": {
    "colab": {
     "base_uri": "https://localhost:8080/"
    },
    "id": "aH0wvXWFdF3-",
    "outputId": "f36fb6d0-046d-422f-f4b2-19eb4c91d383"
   },
   "outputs": [
    {
     "data": {
      "text/plain": [
       "{'optimizer': 'adam'}"
      ]
     },
     "execution_count": 44,
     "metadata": {},
     "output_type": "execute_result"
    }
   ],
   "source": [
    "tuner.get_best_hyperparameters()[0].values"
   ]
  },
  {
   "cell_type": "code",
   "execution_count": 45,
   "metadata": {
    "colab": {
     "base_uri": "https://localhost:8080/"
    },
    "id": "1KitpYaqdRwY",
    "outputId": "f9024166-136a-4fe8-c314-62e57e5ae089"
   },
   "outputs": [],
   "source": [
    "model = tuner.get_best_models(num_models=1)[0]"
   ]
  },
  {
   "cell_type": "code",
   "execution_count": 46,
   "metadata": {},
   "outputs": [
    {
     "name": "stdout",
     "output_type": "stream",
     "text": [
      "Epoch 6/10\n",
      "14/14 [==============================] - 1s 17ms/step - loss: 0.5289 - accuracy: 0.7523 - val_loss: 0.4987 - val_accuracy: 0.8056\n",
      "Epoch 7/10\n",
      "14/14 [==============================] - 0s 5ms/step - loss: 0.5147 - accuracy: 0.7593 - val_loss: 0.4879 - val_accuracy: 0.8056\n",
      "Epoch 8/10\n",
      "14/14 [==============================] - 0s 5ms/step - loss: 0.5029 - accuracy: 0.7662 - val_loss: 0.4796 - val_accuracy: 0.8056\n",
      "Epoch 9/10\n",
      "14/14 [==============================] - 0s 5ms/step - loss: 0.4934 - accuracy: 0.7685 - val_loss: 0.4732 - val_accuracy: 0.8194\n",
      "Epoch 10/10\n",
      "14/14 [==============================] - 0s 5ms/step - loss: 0.4865 - accuracy: 0.7708 - val_loss: 0.4681 - val_accuracy: 0.8056\n"
     ]
    },
    {
     "data": {
      "text/plain": [
       "<keras.src.callbacks.History at 0x7f36eb60dba0>"
      ]
     },
     "execution_count": 46,
     "metadata": {},
     "output_type": "execute_result"
    }
   ],
   "source": [
    "model.fit(X_train, y_train,validation_data = (X_valid, y_valid),epochs = 10, initial_epoch = 5)"
   ]
  },
  {
   "cell_type": "code",
   "execution_count": 47,
   "metadata": {
    "colab": {
     "base_uri": "https://localhost:8080/"
    },
    "id": "2gLE3XzxdckT",
    "outputId": "136b06f9-cb04-4bb9-edd8-afed7af1cc63"
   },
   "outputs": [
    {
     "name": "stdout",
     "output_type": "stream",
     "text": [
      "Model: \"sequential\"\n",
      "_________________________________________________________________\n",
      " Layer (type)                Output Shape              Param #   \n",
      "=================================================================\n",
      " dense (Dense)               (None, 32)                288       \n",
      "                                                                 \n",
      " dense_1 (Dense)             (None, 1)                 33        \n",
      "                                                                 \n",
      "=================================================================\n",
      "Total params: 321 (1.25 KB)\n",
      "Trainable params: 321 (1.25 KB)\n",
      "Non-trainable params: 0 (0.00 Byte)\n",
      "_________________________________________________________________\n"
     ]
    }
   ],
   "source": [
    "model.summary()"
   ]
  },
  {
   "cell_type": "markdown",
   "metadata": {
    "id": "hBZZ3DSUdkgJ"
   },
   "source": [
    "All in one model"
   ]
  },
  {
   "cell_type": "code",
   "execution_count": 48,
   "metadata": {
    "id": "XEBmDwNndegi"
   },
   "outputs": [],
   "source": [
    "def build_model(hp):\n",
    "\n",
    "  counter = 0\n",
    "\n",
    "  model = tf.keras.models.Sequential()\n",
    "\n",
    "  for i in range(hp.Int('num_layers', min_value = 1, max_value = 10)):\n",
    "    if counter == 0:\n",
    "      model.add(tf.keras.layers.Dense(hp.Int('units'+str(i), min_value = 8, max_value = 128, step = 8),\n",
    "                                      activation = hp.Choice('activation ' + str(i), values=['relu','tanh']),\n",
    "                                      input_dim = 8))\n",
    "    else:\n",
    "      model.add(tf.keras.layers.Dense(hp.Int('units'+str(i), min_value = 8, max_value = 128,steps = 8),\n",
    "                                      activation = hp.Choice('activation ' + str(i), values = ['relu','tanh'])))\n",
    "      counter += 1\n",
    "\n",
    "  model.add(tf.keras.layers.Dense(1, activation = 'sigmoid'))\n",
    "\n",
    "  Loss_function = 'binary_crossentropy'\n",
    "  Optimizers = hp.Choice('optimizer',values = ['adam','sgd','relu','rmsprop'])\n",
    "  Metrics = 'accuracy'\n",
    "\n",
    "  model.compile(loss = Loss_function,\n",
    "                optimizer = Optimizers,\n",
    "                metrics = Metrics)\n",
    "\n",
    "  return model\n"
   ]
  },
  {
   "cell_type": "code",
   "execution_count": 49,
   "metadata": {
    "colab": {
     "base_uri": "https://localhost:8080/"
    },
    "id": "7LWKEWJ5kOtZ",
    "outputId": "f801bd7b-381c-4ce0-de68-6f6369550575"
   },
   "outputs": [
    {
     "name": "stdout",
     "output_type": "stream",
     "text": [
      "Reloading Tuner from Final Selection/untitled_project/tuner0.json\n"
     ]
    }
   ],
   "source": [
    "tuner = kt.RandomSearch(build_model,\n",
    "                        objective='val_accuracy',\n",
    "                        max_trials = 5,\n",
    "                        directory = 'Final Selection')"
   ]
  },
  {
   "cell_type": "code",
   "execution_count": 50,
   "metadata": {
    "id": "r3T-T3-NkgQh"
   },
   "outputs": [],
   "source": [
    "tuner.search(X_train, y_train, epochs=5, validation_data=(X_valid, y_valid))"
   ]
  },
  {
   "cell_type": "code",
   "execution_count": 51,
   "metadata": {
    "colab": {
     "base_uri": "https://localhost:8080/"
    },
    "id": "sTdWH8CflGy1",
    "outputId": "0374481f-e0fb-453f-eb64-a8b9100a1a51"
   },
   "outputs": [
    {
     "data": {
      "text/plain": [
       "{'num_layers': 7,\n",
       " 'units0': 8,\n",
       " 'activation 0': 'relu',\n",
       " 'optimizer': 'adam',\n",
       " 'units1': 16,\n",
       " 'activation 1': 'relu',\n",
       " 'units2': 48,\n",
       " 'activation 2': 'tanh',\n",
       " 'units3': 64,\n",
       " 'activation 3': 'relu',\n",
       " 'units4': 24,\n",
       " 'activation 4': 'relu',\n",
       " 'units5': 88,\n",
       " 'activation 5': 'tanh',\n",
       " 'units6': 48,\n",
       " 'activation 6': 'tanh',\n",
       " 'units7': 96,\n",
       " 'activation 7': 'tanh',\n",
       " 'units8': 8,\n",
       " 'activation 8': 'tanh'}"
      ]
     },
     "execution_count": 51,
     "metadata": {},
     "output_type": "execute_result"
    }
   ],
   "source": [
    "tuner.get_best_hyperparameters()[0].values"
   ]
  },
  {
   "cell_type": "code",
   "execution_count": 52,
   "metadata": {
    "colab": {
     "base_uri": "https://localhost:8080/"
    },
    "id": "U1kzyocdlQ7w",
    "outputId": "776f2013-5c28-4a56-8bc1-3cf38bb4a2b9"
   },
   "outputs": [],
   "source": [
    "model = tuner.get_best_models(num_models = 1)[0]"
   ]
  },
  {
   "cell_type": "code",
   "execution_count": 53,
   "metadata": {
    "colab": {
     "base_uri": "https://localhost:8080/"
    },
    "id": "eHEc_BuJlmXe",
    "outputId": "61c16420-116b-4716-b6f3-260ff2b43ac4"
   },
   "outputs": [
    {
     "name": "stdout",
     "output_type": "stream",
     "text": [
      "Model: \"sequential\"\n",
      "_________________________________________________________________\n",
      " Layer (type)                Output Shape              Param #   \n",
      "=================================================================\n",
      " dense (Dense)               (None, 8)                 72        \n",
      "                                                                 \n",
      " dense_1 (Dense)             (None, 16)                144       \n",
      "                                                                 \n",
      " dense_2 (Dense)             (None, 48)                816       \n",
      "                                                                 \n",
      " dense_3 (Dense)             (None, 64)                3136      \n",
      "                                                                 \n",
      " dense_4 (Dense)             (None, 24)                1560      \n",
      "                                                                 \n",
      " dense_5 (Dense)             (None, 88)                2200      \n",
      "                                                                 \n",
      " dense_6 (Dense)             (None, 48)                4272      \n",
      "                                                                 \n",
      " dense_7 (Dense)             (None, 1)                 49        \n",
      "                                                                 \n",
      "=================================================================\n",
      "Total params: 12249 (47.85 KB)\n",
      "Trainable params: 12249 (47.85 KB)\n",
      "Non-trainable params: 0 (0.00 Byte)\n",
      "_________________________________________________________________\n"
     ]
    }
   ],
   "source": [
    "model.summary()"
   ]
  },
  {
   "cell_type": "code",
   "execution_count": 54,
   "metadata": {
    "colab": {
     "base_uri": "https://localhost:8080/"
    },
    "id": "EvviEdeQlqWf",
    "outputId": "98933a8e-a587-42d7-9a20-03f8a411551c"
   },
   "outputs": [
    {
     "name": "stdout",
     "output_type": "stream",
     "text": [
      "Epoch 6/10\n",
      "14/14 [==============================] - 2s 22ms/step - loss: 0.5311 - accuracy: 0.7338 - val_loss: 0.4906 - val_accuracy: 0.7778\n",
      "Epoch 7/10\n",
      "14/14 [==============================] - 0s 7ms/step - loss: 0.4822 - accuracy: 0.7454 - val_loss: 0.4947 - val_accuracy: 0.7708\n",
      "Epoch 8/10\n",
      "14/14 [==============================] - 0s 7ms/step - loss: 0.4662 - accuracy: 0.7546 - val_loss: 0.4951 - val_accuracy: 0.7708\n",
      "Epoch 9/10\n",
      "14/14 [==============================] - 0s 6ms/step - loss: 0.4609 - accuracy: 0.7546 - val_loss: 0.4934 - val_accuracy: 0.7778\n",
      "Epoch 10/10\n",
      "14/14 [==============================] - 0s 7ms/step - loss: 0.4489 - accuracy: 0.7731 - val_loss: 0.4978 - val_accuracy: 0.7778\n"
     ]
    },
    {
     "data": {
      "text/plain": [
       "<keras.src.callbacks.History at 0x7f36eb60f4f0>"
      ]
     },
     "execution_count": 54,
     "metadata": {},
     "output_type": "execute_result"
    }
   ],
   "source": [
    "model.fit(X_train, y_train, epochs=10, initial_epoch=5, validation_data=(X_valid,y_valid))"
   ]
  }
 ],
 "metadata": {
  "accelerator": "GPU",
  "colab": {
   "gpuType": "T4",
   "provenance": []
  },
  "kernelspec": {
   "display_name": "Python 3 (ipykernel)",
   "language": "python",
   "name": "python3"
  },
  "language_info": {
   "codemirror_mode": {
    "name": "ipython",
    "version": 3
   },
   "file_extension": ".py",
   "mimetype": "text/x-python",
   "name": "python",
   "nbconvert_exporter": "python",
   "pygments_lexer": "ipython3",
   "version": "3.10.8"
  }
 },
 "nbformat": 4,
 "nbformat_minor": 4
}
